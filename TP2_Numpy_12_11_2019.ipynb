{
 "cells": [
  {
   "cell_type": "markdown",
   "metadata": {},
   "source": [
    "# Statistical Software for Data Scientists"
   ]
  },
  {
   "cell_type": "markdown",
   "metadata": {},
   "source": [
    "## Python - Tutorial 2 - NUMPY"
   ]
  },
  {
   "cell_type": "markdown",
   "metadata": {},
   "source": [
    "### Exercise 1"
   ]
  },
  {
   "cell_type": "markdown",
   "metadata": {},
   "source": [
    "1. Create 1D array t1 of 100 float values. Fill this array with random values in [-1.0, 1.0]"
   ]
  },
  {
   "cell_type": "code",
   "execution_count": 39,
   "metadata": {},
   "outputs": [
    {
     "data": {
      "text/plain": [
       "array([ 5.30452112e-01,  6.06963079e-01,  4.66453461e-01,  1.44160457e-01,\n",
       "       -9.96986811e-01,  9.24071212e-01,  4.98291690e-01, -3.91684384e-01,\n",
       "        2.74717640e-03, -3.71081368e-01,  2.64081674e-02,  5.73141826e-02,\n",
       "        3.04462333e-01, -3.86036605e-01, -9.26731396e-01, -9.32327146e-02,\n",
       "       -2.65202019e-01,  6.01517414e-01, -3.70440750e-02,  7.56244764e-01,\n",
       "       -6.59323205e-01, -9.63761403e-01,  8.18538434e-01, -5.80287438e-01,\n",
       "        5.04035125e-01, -2.56112932e-01,  7.99160306e-01, -8.90410782e-01,\n",
       "        5.52044367e-01,  5.81454258e-01, -8.64889558e-01, -2.51104682e-01,\n",
       "        3.12855627e-01,  5.08403990e-01,  9.56801512e-01, -7.61412270e-01,\n",
       "        1.73643454e-01,  5.15384931e-01,  9.35383931e-01, -3.41237490e-01,\n",
       "        1.38098102e-01, -4.52341423e-01, -6.74107663e-01, -4.60779789e-01,\n",
       "       -5.39668364e-01, -9.39695820e-01,  1.20991286e-01,  5.35538917e-01,\n",
       "        1.56298927e-01, -4.69583221e-04, -7.32226307e-01,  8.26097458e-01,\n",
       "       -7.53768177e-01,  8.46601943e-01,  7.70865032e-01, -2.68480308e-01,\n",
       "        1.41465919e-01, -8.75635838e-01,  9.87389189e-01,  2.08419428e-01,\n",
       "       -7.16346428e-01, -7.72910596e-01,  2.78334303e-01, -7.79969728e-01,\n",
       "        4.80479631e-01, -1.71539646e-01,  2.93797043e-01, -9.30316082e-01,\n",
       "       -5.97509641e-01,  1.91549039e-01,  9.24202589e-01,  2.00835784e-01,\n",
       "       -7.98319093e-02, -5.74317037e-01, -8.10119683e-01,  3.11951722e-01,\n",
       "        7.27442658e-01,  3.05813649e-01, -4.43174216e-01, -6.16206523e-01,\n",
       "       -9.65211294e-01, -4.78167702e-02, -4.33848912e-01, -8.35234861e-01,\n",
       "       -9.06573729e-01, -2.82665810e-01, -7.28167093e-01, -5.70659771e-01,\n",
       "       -6.66059213e-01,  8.64000421e-01,  4.53180938e-03,  2.55814751e-01,\n",
       "       -2.19700923e-01, -5.58678410e-01,  8.84951108e-01,  7.67176674e-01,\n",
       "       -3.65904086e-01, -3.71229855e-02,  5.87775883e-01,  3.47307255e-01])"
      ]
     },
     "execution_count": 39,
     "metadata": {},
     "output_type": "execute_result"
    }
   ],
   "source": [
    "t1 = np.random.uniform(-1, 1, 100)\n",
    "t1"
   ]
  },
  {
   "cell_type": "markdown",
   "metadata": {},
   "source": [
    "2. Calculate mean, median and standard deviation of t1"
   ]
  },
  {
   "cell_type": "code",
   "execution_count": 40,
   "metadata": {},
   "outputs": [
    {
     "name": "stdout",
     "output_type": "stream",
     "text": [
      "Mean of t1: -0.041090752454301965\n",
      "Median of t1: -0.018756829106408635\n",
      "Standard deviation of t1: 0.5920860796252359\n"
     ]
    }
   ],
   "source": [
    "mean_t1 = np.mean(t1)\n",
    "median_t1 = np.median(t1)\n",
    "sd_t1 = np.std(t1)\n",
    "\n",
    "print(\"Mean of t1:\", mean_t1)\n",
    "print(\"Median of t1:\", median_t1)\n",
    "print(\"Standard deviation of t1:\", sd_t1)"
   ]
  },
  {
   "cell_type": "markdown",
   "metadata": {},
   "source": [
    "3. Create arrays t2 and t3 that contain respecfitvely positive and negative values from t1"
   ]
  },
  {
   "cell_type": "code",
   "execution_count": 41,
   "metadata": {},
   "outputs": [
    {
     "name": "stdout",
     "output_type": "stream",
     "text": [
      "[0.53045211 0.60696308 0.46645346 0.14416046 0.92407121 0.49829169\n",
      " 0.00274718 0.02640817 0.05731418 0.30446233 0.60151741 0.75624476\n",
      " 0.81853843 0.50403513 0.79916031 0.55204437 0.58145426 0.31285563\n",
      " 0.50840399 0.95680151 0.17364345 0.51538493 0.93538393 0.1380981\n",
      " 0.12099129 0.53553892 0.15629893 0.82609746 0.84660194 0.77086503\n",
      " 0.14146592 0.98738919 0.20841943 0.2783343  0.48047963 0.29379704\n",
      " 0.19154904 0.92420259 0.20083578 0.31195172 0.72744266 0.30581365\n",
      " 0.86400042 0.00453181 0.25581475 0.88495111 0.76717667 0.58777588\n",
      " 0.34730726]\n",
      "\n",
      "[-9.96986811e-01 -3.91684384e-01 -3.71081368e-01 -3.86036605e-01\n",
      " -9.26731396e-01 -9.32327146e-02 -2.65202019e-01 -3.70440750e-02\n",
      " -6.59323205e-01 -9.63761403e-01 -5.80287438e-01 -2.56112932e-01\n",
      " -8.90410782e-01 -8.64889558e-01 -2.51104682e-01 -7.61412270e-01\n",
      " -3.41237490e-01 -4.52341423e-01 -6.74107663e-01 -4.60779789e-01\n",
      " -5.39668364e-01 -9.39695820e-01 -4.69583221e-04 -7.32226307e-01\n",
      " -7.53768177e-01 -2.68480308e-01 -8.75635838e-01 -7.16346428e-01\n",
      " -7.72910596e-01 -7.79969728e-01 -1.71539646e-01 -9.30316082e-01\n",
      " -5.97509641e-01 -7.98319093e-02 -5.74317037e-01 -8.10119683e-01\n",
      " -4.43174216e-01 -6.16206523e-01 -9.65211294e-01 -4.78167702e-02\n",
      " -4.33848912e-01 -8.35234861e-01 -9.06573729e-01 -2.82665810e-01\n",
      " -7.28167093e-01 -5.70659771e-01 -6.66059213e-01 -2.19700923e-01\n",
      " -5.58678410e-01 -3.65904086e-01 -3.71229855e-02]\n"
     ]
    }
   ],
   "source": [
    "# Positive of t1 in t2\n",
    "t2 = np.array(t1[t1 > 0])\n",
    "# Negative of t1 in t3\n",
    "t3 = np.array(t1[t1 <= 0])\n",
    "\n",
    "print(t2)\n",
    "print()\n",
    "print(t3)"
   ]
  },
  {
   "cell_type": "markdown",
   "metadata": {},
   "source": [
    "4. Create t4 by removing negative values from t1"
   ]
  },
  {
   "cell_type": "code",
   "execution_count": 42,
   "metadata": {},
   "outputs": [
    {
     "data": {
      "text/plain": [
       "array([0.53045211, 0.60696308, 0.46645346, 0.14416046, 0.92407121,\n",
       "       0.49829169, 0.00274718, 0.02640817, 0.05731418, 0.30446233,\n",
       "       0.60151741, 0.75624476, 0.81853843, 0.50403513, 0.79916031,\n",
       "       0.55204437, 0.58145426, 0.31285563, 0.50840399, 0.95680151,\n",
       "       0.17364345, 0.51538493, 0.93538393, 0.1380981 , 0.12099129,\n",
       "       0.53553892, 0.15629893, 0.82609746, 0.84660194, 0.77086503,\n",
       "       0.14146592, 0.98738919, 0.20841943, 0.2783343 , 0.48047963,\n",
       "       0.29379704, 0.19154904, 0.92420259, 0.20083578, 0.31195172,\n",
       "       0.72744266, 0.30581365, 0.86400042, 0.00453181, 0.25581475,\n",
       "       0.88495111, 0.76717667, 0.58777588, 0.34730726])"
      ]
     },
     "execution_count": 42,
     "metadata": {},
     "output_type": "execute_result"
    }
   ],
   "source": [
    "t4 = np.delete(t1, np.argwhere(t1 < 0))\n",
    "t4"
   ]
  },
  {
   "cell_type": "markdown",
   "metadata": {},
   "source": [
    "5. Create t5 by replacing values in t1 that are greater than 0.5 with 1.0"
   ]
  },
  {
   "cell_type": "code",
   "execution_count": 43,
   "metadata": {},
   "outputs": [
    {
     "data": {
      "text/plain": [
       "array([ 1.00000000e+00,  1.00000000e+00,  4.66453461e-01,  1.44160457e-01,\n",
       "       -9.96986811e-01,  1.00000000e+00,  4.98291690e-01, -3.91684384e-01,\n",
       "        2.74717640e-03, -3.71081368e-01,  2.64081674e-02,  5.73141826e-02,\n",
       "        3.04462333e-01, -3.86036605e-01, -9.26731396e-01, -9.32327146e-02,\n",
       "       -2.65202019e-01,  1.00000000e+00, -3.70440750e-02,  1.00000000e+00,\n",
       "       -6.59323205e-01, -9.63761403e-01,  1.00000000e+00, -5.80287438e-01,\n",
       "        1.00000000e+00, -2.56112932e-01,  1.00000000e+00, -8.90410782e-01,\n",
       "        1.00000000e+00,  1.00000000e+00, -8.64889558e-01, -2.51104682e-01,\n",
       "        3.12855627e-01,  1.00000000e+00,  1.00000000e+00, -7.61412270e-01,\n",
       "        1.73643454e-01,  1.00000000e+00,  1.00000000e+00, -3.41237490e-01,\n",
       "        1.38098102e-01, -4.52341423e-01, -6.74107663e-01, -4.60779789e-01,\n",
       "       -5.39668364e-01, -9.39695820e-01,  1.20991286e-01,  1.00000000e+00,\n",
       "        1.56298927e-01, -4.69583221e-04, -7.32226307e-01,  1.00000000e+00,\n",
       "       -7.53768177e-01,  1.00000000e+00,  1.00000000e+00, -2.68480308e-01,\n",
       "        1.41465919e-01, -8.75635838e-01,  1.00000000e+00,  2.08419428e-01,\n",
       "       -7.16346428e-01, -7.72910596e-01,  2.78334303e-01, -7.79969728e-01,\n",
       "        4.80479631e-01, -1.71539646e-01,  2.93797043e-01, -9.30316082e-01,\n",
       "       -5.97509641e-01,  1.91549039e-01,  1.00000000e+00,  2.00835784e-01,\n",
       "       -7.98319093e-02, -5.74317037e-01, -8.10119683e-01,  3.11951722e-01,\n",
       "        1.00000000e+00,  3.05813649e-01, -4.43174216e-01, -6.16206523e-01,\n",
       "       -9.65211294e-01, -4.78167702e-02, -4.33848912e-01, -8.35234861e-01,\n",
       "       -9.06573729e-01, -2.82665810e-01, -7.28167093e-01, -5.70659771e-01,\n",
       "       -6.66059213e-01,  1.00000000e+00,  4.53180938e-03,  2.55814751e-01,\n",
       "       -2.19700923e-01, -5.58678410e-01,  1.00000000e+00,  1.00000000e+00,\n",
       "       -3.65904086e-01, -3.71229855e-02,  1.00000000e+00,  3.47307255e-01])"
      ]
     },
     "execution_count": 43,
     "metadata": {},
     "output_type": "execute_result"
    }
   ],
   "source": [
    "t5 = np.where(\n",
    "    t1 > 0.5,\n",
    "    1.0,\n",
    "    t1\n",
    ")\n",
    "t5"
   ]
  },
  {
   "cell_type": "markdown",
   "metadata": {},
   "source": [
    "6. Find max and min values of t1"
   ]
  },
  {
   "cell_type": "code",
   "execution_count": 44,
   "metadata": {},
   "outputs": [
    {
     "name": "stdout",
     "output_type": "stream",
     "text": [
      "Max value in t1:  0.9873891888543349\n",
      "Max value in t1:  -0.9969868112180169\n"
     ]
    }
   ],
   "source": [
    "max_t1 = np.max(t1)\n",
    "min_t1 = np.min(t1)\n",
    "\n",
    "print(\"Max value in t1: \" ,  max_t1)\n",
    "print(\"Max value in t1: \", min_t1)"
   ]
  },
  {
   "cell_type": "markdown",
   "metadata": {},
   "source": [
    "7. Reshape t1 as m1, 25x4 matrix"
   ]
  },
  {
   "cell_type": "code",
   "execution_count": 45,
   "metadata": {},
   "outputs": [
    {
     "data": {
      "text/plain": [
       "array([[ 5.30452112e-01,  6.06963079e-01,  4.66453461e-01,\n",
       "         1.44160457e-01],\n",
       "       [-9.96986811e-01,  9.24071212e-01,  4.98291690e-01,\n",
       "        -3.91684384e-01],\n",
       "       [ 2.74717640e-03, -3.71081368e-01,  2.64081674e-02,\n",
       "         5.73141826e-02],\n",
       "       [ 3.04462333e-01, -3.86036605e-01, -9.26731396e-01,\n",
       "        -9.32327146e-02],\n",
       "       [-2.65202019e-01,  6.01517414e-01, -3.70440750e-02,\n",
       "         7.56244764e-01],\n",
       "       [-6.59323205e-01, -9.63761403e-01,  8.18538434e-01,\n",
       "        -5.80287438e-01],\n",
       "       [ 5.04035125e-01, -2.56112932e-01,  7.99160306e-01,\n",
       "        -8.90410782e-01],\n",
       "       [ 5.52044367e-01,  5.81454258e-01, -8.64889558e-01,\n",
       "        -2.51104682e-01],\n",
       "       [ 3.12855627e-01,  5.08403990e-01,  9.56801512e-01,\n",
       "        -7.61412270e-01],\n",
       "       [ 1.73643454e-01,  5.15384931e-01,  9.35383931e-01,\n",
       "        -3.41237490e-01],\n",
       "       [ 1.38098102e-01, -4.52341423e-01, -6.74107663e-01,\n",
       "        -4.60779789e-01],\n",
       "       [-5.39668364e-01, -9.39695820e-01,  1.20991286e-01,\n",
       "         5.35538917e-01],\n",
       "       [ 1.56298927e-01, -4.69583221e-04, -7.32226307e-01,\n",
       "         8.26097458e-01],\n",
       "       [-7.53768177e-01,  8.46601943e-01,  7.70865032e-01,\n",
       "        -2.68480308e-01],\n",
       "       [ 1.41465919e-01, -8.75635838e-01,  9.87389189e-01,\n",
       "         2.08419428e-01],\n",
       "       [-7.16346428e-01, -7.72910596e-01,  2.78334303e-01,\n",
       "        -7.79969728e-01],\n",
       "       [ 4.80479631e-01, -1.71539646e-01,  2.93797043e-01,\n",
       "        -9.30316082e-01],\n",
       "       [-5.97509641e-01,  1.91549039e-01,  9.24202589e-01,\n",
       "         2.00835784e-01],\n",
       "       [-7.98319093e-02, -5.74317037e-01, -8.10119683e-01,\n",
       "         3.11951722e-01],\n",
       "       [ 7.27442658e-01,  3.05813649e-01, -4.43174216e-01,\n",
       "        -6.16206523e-01],\n",
       "       [-9.65211294e-01, -4.78167702e-02, -4.33848912e-01,\n",
       "        -8.35234861e-01],\n",
       "       [-9.06573729e-01, -2.82665810e-01, -7.28167093e-01,\n",
       "        -5.70659771e-01],\n",
       "       [-6.66059213e-01,  8.64000421e-01,  4.53180938e-03,\n",
       "         2.55814751e-01],\n",
       "       [-2.19700923e-01, -5.58678410e-01,  8.84951108e-01,\n",
       "         7.67176674e-01],\n",
       "       [-3.65904086e-01, -3.71229855e-02,  5.87775883e-01,\n",
       "         3.47307255e-01]])"
      ]
     },
     "execution_count": 45,
     "metadata": {},
     "output_type": "execute_result"
    }
   ],
   "source": [
    "m1 = t1.reshape(25, 4)\n",
    "m1"
   ]
  },
  {
   "cell_type": "markdown",
   "metadata": {},
   "source": [
    "8. Compute mean values for each row then for each column"
   ]
  },
  {
   "cell_type": "code",
   "execution_count": 47,
   "metadata": {},
   "outputs": [
    {
     "name": "stdout",
     "output_type": "stream",
     "text": [
      "Mean values for each row:  [-0.14832241 -0.02977705  0.14814267 -0.13440622]\n",
      "Mean values for each column:  [ 0.43700728  0.00842293 -0.07115296 -0.2753846   0.26387902 -0.3462084\n",
      "  0.03916793  0.0043761   0.25416221  0.32079371 -0.36228269 -0.2057085\n",
      "  0.06242512  0.14880462  0.11540967 -0.49772311 -0.08189476  0.17976944\n",
      " -0.28807923 -0.00653111 -0.57052796 -0.6220166   0.11457194  0.21843711\n",
      "  0.13301402]\n"
     ]
    }
   ],
   "source": [
    "row_means = m1.mean(0)\n",
    "col_means = m1.mean(1)\n",
    "\n",
    "print(\"Mean values for each row: \", row_means)\n",
    "print(\"Mean values for each column: \", col_means)"
   ]
  },
  {
   "cell_type": "markdown",
   "metadata": {},
   "source": [
    "9. Replace randomly values in m1 with np.nan (create m2). Make sure that there is at least one NaN in each columnn."
   ]
  },
  {
   "cell_type": "code",
   "execution_count": 54,
   "metadata": {},
   "outputs": [
    {
     "data": {
      "text/plain": [
       "array([[False, False, False, False],\n",
       "       [False, False, False, False],\n",
       "       [False,  True, False, False],\n",
       "       [ True, False, False,  True],\n",
       "       [False,  True, False,  True],\n",
       "       [False,  True, False, False],\n",
       "       [ True, False,  True,  True],\n",
       "       [ True, False, False, False],\n",
       "       [False, False, False, False],\n",
       "       [ True, False, False, False],\n",
       "       [False, False, False, False],\n",
       "       [False, False, False,  True],\n",
       "       [False, False, False, False],\n",
       "       [False,  True, False, False],\n",
       "       [False, False, False, False],\n",
       "       [ True, False, False, False],\n",
       "       [False, False, False, False],\n",
       "       [False, False,  True, False],\n",
       "       [False, False, False,  True],\n",
       "       [ True, False, False, False],\n",
       "       [False, False, False, False],\n",
       "       [False,  True, False, False],\n",
       "       [False, False,  True, False],\n",
       "       [False, False, False,  True],\n",
       "       [False, False,  True,  True]])"
      ]
     },
     "execution_count": 54,
     "metadata": {},
     "output_type": "execute_result"
    }
   ],
   "source": [
    "import random\n",
    "\n",
    "m2 = m1.copy()\n",
    "\n",
    "for i in range(0, 30):\n",
    "    # Generate random row index and col index\n",
    "    random_row_index = random.randrange(0, np.size(m1, 0))\n",
    "    random_col_index = random.randrange(0, np.size(m1, 1))\n",
    "    # Set random element to NaN\n",
    "    m2[random_row_index, random_col_index] = float('NaN')\n",
    "    \n",
    "np.isnan(m2[:, range(0, np.size(m1, 1))])\n",
    "\n",
    "# We can see that each column has at least one True, so that one NaN"
   ]
  },
  {
   "cell_type": "markdown",
   "metadata": {},
   "source": [
    "10. Count NaN values for each row then for each column"
   ]
  },
  {
   "cell_type": "code",
   "execution_count": 65,
   "metadata": {},
   "outputs": [
    {
     "name": "stdout",
     "output_type": "stream",
     "text": [
      "[0 0 1 2 2 1 3 1 0 1 0 1 0 1 0 1 0 1 1 1 0 1 1 1 2]\n",
      "[6 5 4 7]\n"
     ]
    }
   ],
   "source": [
    "count_nan_rows = np.count_nonzero(np.isnan(m2), axis = 1)\n",
    "count_nan_columns = np.count_nonzero(np.isnan(m2), axis = 0)\n",
    "\n",
    "print(count_nan_rows)\n",
    "print(count_nan_columns)"
   ]
  },
  {
   "cell_type": "markdown",
   "metadata": {},
   "source": [
    "11. Compute mean value without NaNs of 1st column of m2. Replace NaNs in 1st column with mean value."
   ]
  },
  {
   "cell_type": "code",
   "execution_count": 88,
   "metadata": {},
   "outputs": [
    {
     "name": "stdout",
     "output_type": "stream",
     "text": [
      "Mean value of the first column in m2:  -0.2764916777989334\n"
     ]
    },
    {
     "data": {
      "text/plain": [
       "array([[ 5.30452112e-01,  6.06963079e-01,  4.66453461e-01,\n",
       "         1.44160457e-01],\n",
       "       [-9.96986811e-01,  9.24071212e-01,  4.98291690e-01,\n",
       "        -3.91684384e-01],\n",
       "       [ 2.74717640e-03,             nan,  2.64081674e-02,\n",
       "         5.73141826e-02],\n",
       "       [-2.76491678e-01, -3.86036605e-01, -9.26731396e-01,\n",
       "                    nan],\n",
       "       [-2.65202019e-01,             nan, -3.70440750e-02,\n",
       "                    nan],\n",
       "       [-6.59323205e-01,             nan,  8.18538434e-01,\n",
       "        -5.80287438e-01],\n",
       "       [-2.76491678e-01, -2.56112932e-01,             nan,\n",
       "                    nan],\n",
       "       [-2.76491678e-01,  5.81454258e-01, -8.64889558e-01,\n",
       "        -2.51104682e-01],\n",
       "       [ 3.12855627e-01,  5.08403990e-01,  9.56801512e-01,\n",
       "        -7.61412270e-01],\n",
       "       [-2.76491678e-01,  5.15384931e-01,  9.35383931e-01,\n",
       "        -3.41237490e-01],\n",
       "       [ 1.38098102e-01, -4.52341423e-01, -6.74107663e-01,\n",
       "        -4.60779789e-01],\n",
       "       [-5.39668364e-01, -9.39695820e-01,  1.20991286e-01,\n",
       "                    nan],\n",
       "       [ 1.56298927e-01, -4.69583221e-04, -7.32226307e-01,\n",
       "         8.26097458e-01],\n",
       "       [-7.53768177e-01,             nan,  7.70865032e-01,\n",
       "        -2.68480308e-01],\n",
       "       [ 1.41465919e-01, -8.75635838e-01,  9.87389189e-01,\n",
       "         2.08419428e-01],\n",
       "       [-2.76491678e-01, -7.72910596e-01,  2.78334303e-01,\n",
       "        -7.79969728e-01],\n",
       "       [ 4.80479631e-01, -1.71539646e-01,  2.93797043e-01,\n",
       "        -9.30316082e-01],\n",
       "       [-5.97509641e-01,  1.91549039e-01,             nan,\n",
       "         2.00835784e-01],\n",
       "       [-7.98319093e-02, -5.74317037e-01, -8.10119683e-01,\n",
       "                    nan],\n",
       "       [-2.76491678e-01,  3.05813649e-01, -4.43174216e-01,\n",
       "        -6.16206523e-01],\n",
       "       [-9.65211294e-01, -4.78167702e-02, -4.33848912e-01,\n",
       "        -8.35234861e-01],\n",
       "       [-9.06573729e-01,             nan, -7.28167093e-01,\n",
       "        -5.70659771e-01],\n",
       "       [-6.66059213e-01,  8.64000421e-01,             nan,\n",
       "         2.55814751e-01],\n",
       "       [-2.19700923e-01, -5.58678410e-01,  8.84951108e-01,\n",
       "                    nan],\n",
       "       [-3.65904086e-01, -3.71229855e-02,             nan,\n",
       "                    nan]])"
      ]
     },
     "execution_count": 88,
     "metadata": {},
     "output_type": "execute_result"
    }
   ],
   "source": [
    "mean_value_col1 = np.nanmean(m2[:, 0])\n",
    "print(\"Mean value of the first column in m2: \", mean_value_col1)\n",
    "\n",
    "# Replace NaN values in the first column with the calculated mean \n",
    "# Find all NaN values in first column\n",
    "m2_col1 = m2[:, 0]\n",
    "m2_col1[np.argwhere(np.isnan(m2_col1))] = mean_value_col1\n",
    "m2[:, 0] = m2_col1\n",
    "m2"
   ]
  },
  {
   "cell_type": "markdown",
   "metadata": {},
   "source": [
    "12. Create a function removeNaNs that, given a matrix mat and a column c, replaces NaNs in c with mean value of c"
   ]
  },
  {
   "cell_type": "code",
   "execution_count": 102,
   "metadata": {},
   "outputs": [],
   "source": [
    "def removeNaNs(mat, c):\n",
    "    # Compute mean value of c\n",
    "    mean_value_c = np.nanmean(mat[:, c])\n",
    "    # Replace NaN values by calculated mean\n",
    "    col_c = mat[:, c]\n",
    "    col_c[np.argwhere(np.isnan(col_c))] = mean_value_c\n",
    "    mat[:, c] = col_c\n",
    "    return mat"
   ]
  },
  {
   "cell_type": "markdown",
   "metadata": {},
   "source": [
    "13. Apply removeNaNs for each column of m2"
   ]
  },
  {
   "cell_type": "code",
   "execution_count": 103,
   "metadata": {},
   "outputs": [
    {
     "data": {
      "text/plain": [
       "array([[ 5.30452112e-01,  6.06963079e-01,  4.66453461e-01,\n",
       "         1.44160457e-01],\n",
       "       [-2.83040626e-01, -2.83040626e-01, -2.83040626e-01,\n",
       "        -2.83040626e-01],\n",
       "       [-2.83040626e-01, -2.83040626e-01, -2.83040626e-01,\n",
       "        -2.83040626e-01],\n",
       "       [-2.76491678e-01, -3.86036605e-01, -9.26731396e-01,\n",
       "        -2.95913462e-01],\n",
       "       [-2.65202019e-01, -9.83423585e-02, -3.70440750e-02,\n",
       "        -2.95913462e-01],\n",
       "       [-6.59323205e-01, -9.83423585e-02,  8.18538434e-01,\n",
       "        -5.80287438e-01],\n",
       "       [-2.76491678e-01, -2.56112932e-01,  1.41483402e-02,\n",
       "        -2.95913462e-01],\n",
       "       [-2.76491678e-01,  5.81454258e-01, -8.64889558e-01,\n",
       "        -2.51104682e-01],\n",
       "       [ 3.12855627e-01,  5.08403990e-01,  9.56801512e-01,\n",
       "        -7.61412270e-01],\n",
       "       [-2.76491678e-01,  5.15384931e-01,  9.35383931e-01,\n",
       "        -3.41237490e-01],\n",
       "       [ 1.38098102e-01, -4.52341423e-01, -6.74107663e-01,\n",
       "        -4.60779789e-01],\n",
       "       [-5.39668364e-01, -9.39695820e-01,  1.20991286e-01,\n",
       "        -2.95913462e-01],\n",
       "       [ 1.56298927e-01, -4.69583221e-04, -7.32226307e-01,\n",
       "         8.26097458e-01],\n",
       "       [-7.53768177e-01, -9.83423585e-02,  7.70865032e-01,\n",
       "        -2.68480308e-01],\n",
       "       [ 1.41465919e-01, -8.75635838e-01,  9.87389189e-01,\n",
       "         2.08419428e-01],\n",
       "       [-2.76491678e-01, -7.72910596e-01,  2.78334303e-01,\n",
       "        -7.79969728e-01],\n",
       "       [ 4.80479631e-01, -1.71539646e-01,  2.93797043e-01,\n",
       "        -9.30316082e-01],\n",
       "       [-5.97509641e-01,  1.91549039e-01,  1.41483402e-02,\n",
       "         2.00835784e-01],\n",
       "       [-7.98319093e-02, -5.74317037e-01, -8.10119683e-01,\n",
       "        -2.95913462e-01],\n",
       "       [-2.76491678e-01,  3.05813649e-01, -4.43174216e-01,\n",
       "        -6.16206523e-01],\n",
       "       [-9.65211294e-01, -4.78167702e-02, -4.33848912e-01,\n",
       "        -8.35234861e-01],\n",
       "       [-9.06573729e-01, -9.83423585e-02, -7.28167093e-01,\n",
       "        -5.70659771e-01],\n",
       "       [-6.66059213e-01,  8.64000421e-01,  1.41483402e-02,\n",
       "         2.55814751e-01],\n",
       "       [-2.19700923e-01, -5.58678410e-01,  8.84951108e-01,\n",
       "        -2.95913462e-01],\n",
       "       [-3.65904086e-01, -3.71229855e-02,  1.41483402e-02,\n",
       "        -2.95913462e-01]])"
      ]
     },
     "execution_count": 103,
     "metadata": {},
     "output_type": "execute_result"
    }
   ],
   "source": [
    "for index in range(np.size(m2, 1)):\n",
    "    m2 = removeNaNs(m2, index)\n",
    "    \n",
    "m2"
   ]
  },
  {
   "cell_type": "markdown",
   "metadata": {},
   "source": [
    "14. Find max value for each col of m1"
   ]
  },
  {
   "cell_type": "code",
   "execution_count": 117,
   "metadata": {},
   "outputs": [
    {
     "data": {
      "text/plain": [
       "array([-0.99698681, -0.9637614 , -0.9267314 , -0.93031608])"
      ]
     },
     "execution_count": 117,
     "metadata": {},
     "output_type": "execute_result"
    }
   ],
   "source": [
    "max_each_col = np.min(m1, 0)\n",
    "max_each_col"
   ]
  },
  {
   "cell_type": "markdown",
   "metadata": {},
   "source": [
    "15. Find min value for each row of m1"
   ]
  },
  {
   "cell_type": "code",
   "execution_count": 118,
   "metadata": {},
   "outputs": [
    {
     "data": {
      "text/plain": [
       "array([ 0.14416046, -0.99698681, -0.37108137, -0.9267314 , -0.26520202,\n",
       "       -0.9637614 , -0.89041078, -0.86488956, -0.76141227, -0.34123749,\n",
       "       -0.67410766, -0.93969582, -0.73222631, -0.75376818, -0.87563584,\n",
       "       -0.77996973, -0.93031608, -0.59750964, -0.81011968, -0.61620652,\n",
       "       -0.96521129, -0.90657373, -0.66605921, -0.55867841, -0.36590409])"
      ]
     },
     "execution_count": 118,
     "metadata": {},
     "output_type": "execute_result"
    }
   ],
   "source": [
    "min_each_row = np.min(m1, 1)\n",
    "min_each_row"
   ]
  },
  {
   "cell_type": "markdown",
   "metadata": {},
   "source": [
    "---"
   ]
  },
  {
   "cell_type": "markdown",
   "metadata": {},
   "source": [
    "### Exercise 2"
   ]
  },
  {
   "cell_type": "markdown",
   "metadata": {},
   "source": [
    "1. Create a 10x6 2D array m filled with random integers in [0, 10]"
   ]
  },
  {
   "cell_type": "code",
   "execution_count": 126,
   "metadata": {},
   "outputs": [
    {
     "data": {
      "text/plain": [
       "array([[4, 4, 2, 7, 1, 2],\n",
       "       [4, 4, 1, 4, 4, 7],\n",
       "       [9, 3, 2, 9, 1, 0],\n",
       "       [4, 8, 5, 2, 0, 8],\n",
       "       [4, 4, 6, 7, 9, 8],\n",
       "       [7, 3, 6, 2, 2, 5],\n",
       "       [6, 7, 4, 0, 2, 8],\n",
       "       [0, 4, 3, 0, 9, 4],\n",
       "       [4, 2, 0, 1, 8, 1],\n",
       "       [6, 5, 5, 7, 6, 6]])"
      ]
     },
     "execution_count": 126,
     "metadata": {},
     "output_type": "execute_result"
    }
   ],
   "source": [
    "m = np.random.randint(0, 10, 60)\n",
    "m = m.reshape(10, 6)\n",
    "m"
   ]
  },
  {
   "cell_type": "markdown",
   "metadata": {},
   "source": [
    "2. Create the function that computes the counts of unique values row-wise. Output is 10x11 matrix where columns represent numbers from 0 to 10. The values are the counts of the numbers in the respective rows."
   ]
  },
  {
   "cell_type": "code",
   "execution_count": 161,
   "metadata": {},
   "outputs": [
    {
     "data": {
      "text/plain": [
       "array([[ 0.,  1.,  2.,  3.,  4.,  5.,  6.,  7.,  8.,  9., 10.],\n",
       "       [ 0.,  2.,  2.,  3.,  8.,  5.,  6.,  8.,  8.,  9., 10.],\n",
       "       [ 1.,  2.,  3.,  4.,  4.,  5.,  6.,  7.,  8., 11., 10.],\n",
       "       [ 1.,  1.,  3.,  3.,  5.,  6.,  6.,  7., 10.,  9., 10.],\n",
       "       [ 0.,  1.,  2.,  3.,  6.,  5.,  7.,  8.,  9., 10., 10.],\n",
       "       [ 0.,  1.,  4.,  4.,  4.,  6.,  7.,  8.,  8.,  9., 10.],\n",
       "       [ 1.,  1.,  3.,  3.,  5.,  5.,  7.,  8.,  9.,  9., 10.],\n",
       "       [ 2.,  1.,  2.,  4.,  6.,  5.,  6.,  7.,  8., 10., 10.],\n",
       "       [ 1.,  3.,  3.,  3.,  5.,  5.,  6.,  7.,  9.,  9., 10.],\n",
       "       [ 0.,  1.,  2.,  3.,  4.,  7.,  9.,  8.,  8.,  9., 10.]])"
      ]
     },
     "execution_count": 161,
     "metadata": {},
     "output_type": "execute_result"
    }
   ],
   "source": [
    "def countValuesRowWise(matrix):\n",
    "    countMatrix = np.zeros((10, 11))\n",
    "    # Iterate through each row of the matrix\n",
    "    # at each element, add +1 to its respective position in countMatrix\n",
    "    countMatrix[0:] = range(0, 11)\n",
    "    for i in range(1, np.size(matrix, 0)):\n",
    "        for j in range(0, np.size(matrix, 1)):\n",
    "            element = matrix[i, j]\n",
    "            countMatrix[i, element] = countMatrix[i, element] + 1\n",
    "    return countMatrix\n",
    "\n",
    "countValuesRowWise(m)"
   ]
  },
  {
   "cell_type": "markdown",
   "metadata": {},
   "source": [
    "---"
   ]
  },
  {
   "cell_type": "markdown",
   "metadata": {},
   "source": [
    "### Exercise 3"
   ]
  },
  {
   "cell_type": "markdown",
   "metadata": {},
   "source": [
    "1. Import iris dataset keeping the text intact as a 2D array named irisdata"
   ]
  },
  {
   "cell_type": "code",
   "execution_count": 170,
   "metadata": {},
   "outputs": [
    {
     "data": {
      "text/plain": [
       "array([[b'5.1', b'3.5', b'1.4', b'0.2', b'Iris-setosa'],\n",
       "       [b'4.9', b'3.0', b'1.4', b'0.2', b'Iris-setosa'],\n",
       "       [b'4.7', b'3.2', b'1.3', b'0.2', b'Iris-setosa'],\n",
       "       [b'4.6', b'3.1', b'1.5', b'0.2', b'Iris-setosa'],\n",
       "       [b'5.0', b'3.6', b'1.4', b'0.2', b'Iris-setosa'],\n",
       "       [b'5.4', b'3.9', b'1.7', b'0.4', b'Iris-setosa'],\n",
       "       [b'4.6', b'3.4', b'1.4', b'0.3', b'Iris-setosa'],\n",
       "       [b'5.0', b'3.4', b'1.5', b'0.2', b'Iris-setosa'],\n",
       "       [b'4.4', b'2.9', b'1.4', b'0.2', b'Iris-setosa'],\n",
       "       [b'4.9', b'3.1', b'1.5', b'0.1', b'Iris-setosa'],\n",
       "       [b'5.4', b'3.7', b'1.5', b'0.2', b'Iris-setosa'],\n",
       "       [b'4.8', b'3.4', b'1.6', b'0.2', b'Iris-setosa'],\n",
       "       [b'4.8', b'3.0', b'1.4', b'0.1', b'Iris-setosa'],\n",
       "       [b'4.3', b'3.0', b'1.1', b'0.1', b'Iris-setosa'],\n",
       "       [b'5.8', b'4.0', b'1.2', b'0.2', b'Iris-setosa'],\n",
       "       [b'5.7', b'4.4', b'1.5', b'0.4', b'Iris-setosa'],\n",
       "       [b'5.4', b'3.9', b'1.3', b'0.4', b'Iris-setosa'],\n",
       "       [b'5.1', b'3.5', b'1.4', b'0.3', b'Iris-setosa'],\n",
       "       [b'5.7', b'3.8', b'1.7', b'0.3', b'Iris-setosa'],\n",
       "       [b'5.1', b'3.8', b'1.5', b'0.3', b'Iris-setosa'],\n",
       "       [b'5.4', b'3.4', b'1.7', b'0.2', b'Iris-setosa'],\n",
       "       [b'5.1', b'3.7', b'1.5', b'0.4', b'Iris-setosa'],\n",
       "       [b'4.6', b'3.6', b'1.0', b'0.2', b'Iris-setosa'],\n",
       "       [b'5.1', b'3.3', b'1.7', b'0.5', b'Iris-setosa'],\n",
       "       [b'4.8', b'3.4', b'1.9', b'0.2', b'Iris-setosa'],\n",
       "       [b'5.0', b'3.0', b'1.6', b'0.2', b'Iris-setosa'],\n",
       "       [b'5.0', b'3.4', b'1.6', b'0.4', b'Iris-setosa'],\n",
       "       [b'5.2', b'3.5', b'1.5', b'0.2', b'Iris-setosa'],\n",
       "       [b'5.2', b'3.4', b'1.4', b'0.2', b'Iris-setosa'],\n",
       "       [b'4.7', b'3.2', b'1.6', b'0.2', b'Iris-setosa'],\n",
       "       [b'4.8', b'3.1', b'1.6', b'0.2', b'Iris-setosa'],\n",
       "       [b'5.4', b'3.4', b'1.5', b'0.4', b'Iris-setosa'],\n",
       "       [b'5.2', b'4.1', b'1.5', b'0.1', b'Iris-setosa'],\n",
       "       [b'5.5', b'4.2', b'1.4', b'0.2', b'Iris-setosa'],\n",
       "       [b'4.9', b'3.1', b'1.5', b'0.1', b'Iris-setosa'],\n",
       "       [b'5.0', b'3.2', b'1.2', b'0.2', b'Iris-setosa'],\n",
       "       [b'5.5', b'3.5', b'1.3', b'0.2', b'Iris-setosa'],\n",
       "       [b'4.9', b'3.1', b'1.5', b'0.1', b'Iris-setosa'],\n",
       "       [b'4.4', b'3.0', b'1.3', b'0.2', b'Iris-setosa'],\n",
       "       [b'5.1', b'3.4', b'1.5', b'0.2', b'Iris-setosa'],\n",
       "       [b'5.0', b'3.5', b'1.3', b'0.3', b'Iris-setosa'],\n",
       "       [b'4.5', b'2.3', b'1.3', b'0.3', b'Iris-setosa'],\n",
       "       [b'4.4', b'3.2', b'1.3', b'0.2', b'Iris-setosa'],\n",
       "       [b'5.0', b'3.5', b'1.6', b'0.6', b'Iris-setosa'],\n",
       "       [b'5.1', b'3.8', b'1.9', b'0.4', b'Iris-setosa'],\n",
       "       [b'4.8', b'3.0', b'1.4', b'0.3', b'Iris-setosa'],\n",
       "       [b'5.1', b'3.8', b'1.6', b'0.2', b'Iris-setosa'],\n",
       "       [b'4.6', b'3.2', b'1.4', b'0.2', b'Iris-setosa'],\n",
       "       [b'5.3', b'3.7', b'1.5', b'0.2', b'Iris-setosa'],\n",
       "       [b'5.0', b'3.3', b'1.4', b'0.2', b'Iris-setosa'],\n",
       "       [b'7.0', b'3.2', b'4.7', b'1.4', b'Iris-versicolor'],\n",
       "       [b'6.4', b'3.2', b'4.5', b'1.5', b'Iris-versicolor'],\n",
       "       [b'6.9', b'3.1', b'4.9', b'1.5', b'Iris-versicolor'],\n",
       "       [b'5.5', b'2.3', b'4.0', b'1.3', b'Iris-versicolor'],\n",
       "       [b'6.5', b'2.8', b'4.6', b'1.5', b'Iris-versicolor'],\n",
       "       [b'5.7', b'2.8', b'4.5', b'1.3', b'Iris-versicolor'],\n",
       "       [b'6.3', b'3.3', b'4.7', b'1.6', b'Iris-versicolor'],\n",
       "       [b'4.9', b'2.4', b'3.3', b'1.0', b'Iris-versicolor'],\n",
       "       [b'6.6', b'2.9', b'4.6', b'1.3', b'Iris-versicolor'],\n",
       "       [b'5.2', b'2.7', b'3.9', b'1.4', b'Iris-versicolor'],\n",
       "       [b'5.0', b'2.0', b'3.5', b'1.0', b'Iris-versicolor'],\n",
       "       [b'5.9', b'3.0', b'4.2', b'1.5', b'Iris-versicolor'],\n",
       "       [b'6.0', b'2.2', b'4.0', b'1.0', b'Iris-versicolor'],\n",
       "       [b'6.1', b'2.9', b'4.7', b'1.4', b'Iris-versicolor'],\n",
       "       [b'5.6', b'2.9', b'3.6', b'1.3', b'Iris-versicolor'],\n",
       "       [b'6.7', b'3.1', b'4.4', b'1.4', b'Iris-versicolor'],\n",
       "       [b'5.6', b'3.0', b'4.5', b'1.5', b'Iris-versicolor'],\n",
       "       [b'5.8', b'2.7', b'4.1', b'1.0', b'Iris-versicolor'],\n",
       "       [b'6.2', b'2.2', b'4.5', b'1.5', b'Iris-versicolor'],\n",
       "       [b'5.6', b'2.5', b'3.9', b'1.1', b'Iris-versicolor'],\n",
       "       [b'5.9', b'3.2', b'4.8', b'1.8', b'Iris-versicolor'],\n",
       "       [b'6.1', b'2.8', b'4.0', b'1.3', b'Iris-versicolor'],\n",
       "       [b'6.3', b'2.5', b'4.9', b'1.5', b'Iris-versicolor'],\n",
       "       [b'6.1', b'2.8', b'4.7', b'1.2', b'Iris-versicolor'],\n",
       "       [b'6.4', b'2.9', b'4.3', b'1.3', b'Iris-versicolor'],\n",
       "       [b'6.6', b'3.0', b'4.4', b'1.4', b'Iris-versicolor'],\n",
       "       [b'6.8', b'2.8', b'4.8', b'1.4', b'Iris-versicolor'],\n",
       "       [b'6.7', b'3.0', b'5.0', b'1.7', b'Iris-versicolor'],\n",
       "       [b'6.0', b'2.9', b'4.5', b'1.5', b'Iris-versicolor'],\n",
       "       [b'5.7', b'2.6', b'3.5', b'1.0', b'Iris-versicolor'],\n",
       "       [b'5.5', b'2.4', b'3.8', b'1.1', b'Iris-versicolor'],\n",
       "       [b'5.5', b'2.4', b'3.7', b'1.0', b'Iris-versicolor'],\n",
       "       [b'5.8', b'2.7', b'3.9', b'1.2', b'Iris-versicolor'],\n",
       "       [b'6.0', b'2.7', b'5.1', b'1.6', b'Iris-versicolor'],\n",
       "       [b'5.4', b'3.0', b'4.5', b'1.5', b'Iris-versicolor'],\n",
       "       [b'6.0', b'3.4', b'4.5', b'1.6', b'Iris-versicolor'],\n",
       "       [b'6.7', b'3.1', b'4.7', b'1.5', b'Iris-versicolor'],\n",
       "       [b'6.3', b'2.3', b'4.4', b'1.3', b'Iris-versicolor'],\n",
       "       [b'5.6', b'3.0', b'4.1', b'1.3', b'Iris-versicolor'],\n",
       "       [b'5.5', b'2.5', b'4.0', b'1.3', b'Iris-versicolor'],\n",
       "       [b'5.5', b'2.6', b'4.4', b'1.2', b'Iris-versicolor'],\n",
       "       [b'6.1', b'3.0', b'4.6', b'1.4', b'Iris-versicolor'],\n",
       "       [b'5.8', b'2.6', b'4.0', b'1.2', b'Iris-versicolor'],\n",
       "       [b'5.0', b'2.3', b'3.3', b'1.0', b'Iris-versicolor'],\n",
       "       [b'5.6', b'2.7', b'4.2', b'1.3', b'Iris-versicolor'],\n",
       "       [b'5.7', b'3.0', b'4.2', b'1.2', b'Iris-versicolor'],\n",
       "       [b'5.7', b'2.9', b'4.2', b'1.3', b'Iris-versicolor'],\n",
       "       [b'6.2', b'2.9', b'4.3', b'1.3', b'Iris-versicolor'],\n",
       "       [b'5.1', b'2.5', b'3.0', b'1.1', b'Iris-versicolor'],\n",
       "       [b'5.7', b'2.8', b'4.1', b'1.3', b'Iris-versicolor'],\n",
       "       [b'6.3', b'3.3', b'6.0', b'2.5', b'Iris-virginica'],\n",
       "       [b'5.8', b'2.7', b'5.1', b'1.9', b'Iris-virginica'],\n",
       "       [b'7.1', b'3.0', b'5.9', b'2.1', b'Iris-virginica'],\n",
       "       [b'6.3', b'2.9', b'5.6', b'1.8', b'Iris-virginica'],\n",
       "       [b'6.5', b'3.0', b'5.8', b'2.2', b'Iris-virginica'],\n",
       "       [b'7.6', b'3.0', b'6.6', b'2.1', b'Iris-virginica'],\n",
       "       [b'4.9', b'2.5', b'4.5', b'1.7', b'Iris-virginica'],\n",
       "       [b'7.3', b'2.9', b'6.3', b'1.8', b'Iris-virginica'],\n",
       "       [b'6.7', b'2.5', b'5.8', b'1.8', b'Iris-virginica'],\n",
       "       [b'7.2', b'3.6', b'6.1', b'2.5', b'Iris-virginica'],\n",
       "       [b'6.5', b'3.2', b'5.1', b'2.0', b'Iris-virginica'],\n",
       "       [b'6.4', b'2.7', b'5.3', b'1.9', b'Iris-virginica'],\n",
       "       [b'6.8', b'3.0', b'5.5', b'2.1', b'Iris-virginica'],\n",
       "       [b'5.7', b'2.5', b'5.0', b'2.0', b'Iris-virginica'],\n",
       "       [b'5.8', b'2.8', b'5.1', b'2.4', b'Iris-virginica'],\n",
       "       [b'6.4', b'3.2', b'5.3', b'2.3', b'Iris-virginica'],\n",
       "       [b'6.5', b'3.0', b'5.5', b'1.8', b'Iris-virginica'],\n",
       "       [b'7.7', b'3.8', b'6.7', b'2.2', b'Iris-virginica'],\n",
       "       [b'7.7', b'2.6', b'6.9', b'2.3', b'Iris-virginica'],\n",
       "       [b'6.0', b'2.2', b'5.0', b'1.5', b'Iris-virginica'],\n",
       "       [b'6.9', b'3.2', b'5.7', b'2.3', b'Iris-virginica'],\n",
       "       [b'5.6', b'2.8', b'4.9', b'2.0', b'Iris-virginica'],\n",
       "       [b'7.7', b'2.8', b'6.7', b'2.0', b'Iris-virginica'],\n",
       "       [b'6.3', b'2.7', b'4.9', b'1.8', b'Iris-virginica'],\n",
       "       [b'6.7', b'3.3', b'5.7', b'2.1', b'Iris-virginica'],\n",
       "       [b'7.2', b'3.2', b'6.0', b'1.8', b'Iris-virginica'],\n",
       "       [b'6.2', b'2.8', b'4.8', b'1.8', b'Iris-virginica'],\n",
       "       [b'6.1', b'3.0', b'4.9', b'1.8', b'Iris-virginica'],\n",
       "       [b'6.4', b'2.8', b'5.6', b'2.1', b'Iris-virginica'],\n",
       "       [b'7.2', b'3.0', b'5.8', b'1.6', b'Iris-virginica'],\n",
       "       [b'7.4', b'2.8', b'6.1', b'1.9', b'Iris-virginica'],\n",
       "       [b'7.9', b'3.8', b'6.4', b'2.0', b'Iris-virginica'],\n",
       "       [b'6.4', b'2.8', b'5.6', b'2.2', b'Iris-virginica'],\n",
       "       [b'6.3', b'2.8', b'5.1', b'1.5', b'Iris-virginica'],\n",
       "       [b'6.1', b'2.6', b'5.6', b'1.4', b'Iris-virginica'],\n",
       "       [b'7.7', b'3.0', b'6.1', b'2.3', b'Iris-virginica'],\n",
       "       [b'6.3', b'3.4', b'5.6', b'2.4', b'Iris-virginica'],\n",
       "       [b'6.4', b'3.1', b'5.5', b'1.8', b'Iris-virginica'],\n",
       "       [b'6.0', b'3.0', b'4.8', b'1.8', b'Iris-virginica'],\n",
       "       [b'6.9', b'3.1', b'5.4', b'2.1', b'Iris-virginica'],\n",
       "       [b'6.7', b'3.1', b'5.6', b'2.4', b'Iris-virginica'],\n",
       "       [b'6.9', b'3.1', b'5.1', b'2.3', b'Iris-virginica'],\n",
       "       [b'5.8', b'2.7', b'5.1', b'1.9', b'Iris-virginica'],\n",
       "       [b'6.8', b'3.2', b'5.9', b'2.3', b'Iris-virginica'],\n",
       "       [b'6.7', b'3.3', b'5.7', b'2.5', b'Iris-virginica'],\n",
       "       [b'6.7', b'3.0', b'5.2', b'2.3', b'Iris-virginica'],\n",
       "       [b'6.3', b'2.5', b'5.0', b'1.9', b'Iris-virginica'],\n",
       "       [b'6.5', b'3.0', b'5.2', b'2.0', b'Iris-virginica'],\n",
       "       [b'6.2', b'3.4', b'5.4', b'2.3', b'Iris-virginica'],\n",
       "       [b'5.9', b'3.0', b'5.1', b'1.8', b'Iris-virginica']], dtype=object)"
      ]
     },
     "execution_count": 170,
     "metadata": {},
     "output_type": "execute_result"
    }
   ],
   "source": [
    "irisdata = np.genfromtxt(\"iris_data.csv\", delimiter = ',', dtype=object)\n",
    "irisdata"
   ]
  },
  {
   "cell_type": "markdown",
   "metadata": {},
   "source": [
    "The columns are respectively:\n",
    "* sepal length\n",
    "* sepal width\n",
    "* petal length\n",
    "* petal width\n",
    "* species"
   ]
  },
  {
   "cell_type": "markdown",
   "metadata": {},
   "source": [
    "2. Extract from irisdata the species column as an array of string named species"
   ]
  },
  {
   "cell_type": "code",
   "execution_count": 173,
   "metadata": {},
   "outputs": [
    {
     "data": {
      "text/plain": [
       "array([b'Iris-setosa', b'Iris-setosa', b'Iris-setosa', b'Iris-setosa',\n",
       "       b'Iris-setosa', b'Iris-setosa', b'Iris-setosa', b'Iris-setosa',\n",
       "       b'Iris-setosa', b'Iris-setosa', b'Iris-setosa', b'Iris-setosa',\n",
       "       b'Iris-setosa', b'Iris-setosa', b'Iris-setosa', b'Iris-setosa',\n",
       "       b'Iris-setosa', b'Iris-setosa', b'Iris-setosa', b'Iris-setosa',\n",
       "       b'Iris-setosa', b'Iris-setosa', b'Iris-setosa', b'Iris-setosa',\n",
       "       b'Iris-setosa', b'Iris-setosa', b'Iris-setosa', b'Iris-setosa',\n",
       "       b'Iris-setosa', b'Iris-setosa', b'Iris-setosa', b'Iris-setosa',\n",
       "       b'Iris-setosa', b'Iris-setosa', b'Iris-setosa', b'Iris-setosa',\n",
       "       b'Iris-setosa', b'Iris-setosa', b'Iris-setosa', b'Iris-setosa',\n",
       "       b'Iris-setosa', b'Iris-setosa', b'Iris-setosa', b'Iris-setosa',\n",
       "       b'Iris-setosa', b'Iris-setosa', b'Iris-setosa', b'Iris-setosa',\n",
       "       b'Iris-setosa', b'Iris-setosa', b'Iris-versicolor',\n",
       "       b'Iris-versicolor', b'Iris-versicolor', b'Iris-versicolor',\n",
       "       b'Iris-versicolor', b'Iris-versicolor', b'Iris-versicolor',\n",
       "       b'Iris-versicolor', b'Iris-versicolor', b'Iris-versicolor',\n",
       "       b'Iris-versicolor', b'Iris-versicolor', b'Iris-versicolor',\n",
       "       b'Iris-versicolor', b'Iris-versicolor', b'Iris-versicolor',\n",
       "       b'Iris-versicolor', b'Iris-versicolor', b'Iris-versicolor',\n",
       "       b'Iris-versicolor', b'Iris-versicolor', b'Iris-versicolor',\n",
       "       b'Iris-versicolor', b'Iris-versicolor', b'Iris-versicolor',\n",
       "       b'Iris-versicolor', b'Iris-versicolor', b'Iris-versicolor',\n",
       "       b'Iris-versicolor', b'Iris-versicolor', b'Iris-versicolor',\n",
       "       b'Iris-versicolor', b'Iris-versicolor', b'Iris-versicolor',\n",
       "       b'Iris-versicolor', b'Iris-versicolor', b'Iris-versicolor',\n",
       "       b'Iris-versicolor', b'Iris-versicolor', b'Iris-versicolor',\n",
       "       b'Iris-versicolor', b'Iris-versicolor', b'Iris-versicolor',\n",
       "       b'Iris-versicolor', b'Iris-versicolor', b'Iris-versicolor',\n",
       "       b'Iris-versicolor', b'Iris-versicolor', b'Iris-versicolor',\n",
       "       b'Iris-versicolor', b'Iris-virginica', b'Iris-virginica',\n",
       "       b'Iris-virginica', b'Iris-virginica', b'Iris-virginica',\n",
       "       b'Iris-virginica', b'Iris-virginica', b'Iris-virginica',\n",
       "       b'Iris-virginica', b'Iris-virginica', b'Iris-virginica',\n",
       "       b'Iris-virginica', b'Iris-virginica', b'Iris-virginica',\n",
       "       b'Iris-virginica', b'Iris-virginica', b'Iris-virginica',\n",
       "       b'Iris-virginica', b'Iris-virginica', b'Iris-virginica',\n",
       "       b'Iris-virginica', b'Iris-virginica', b'Iris-virginica',\n",
       "       b'Iris-virginica', b'Iris-virginica', b'Iris-virginica',\n",
       "       b'Iris-virginica', b'Iris-virginica', b'Iris-virginica',\n",
       "       b'Iris-virginica', b'Iris-virginica', b'Iris-virginica',\n",
       "       b'Iris-virginica', b'Iris-virginica', b'Iris-virginica',\n",
       "       b'Iris-virginica', b'Iris-virginica', b'Iris-virginica',\n",
       "       b'Iris-virginica', b'Iris-virginica', b'Iris-virginica',\n",
       "       b'Iris-virginica', b'Iris-virginica', b'Iris-virginica',\n",
       "       b'Iris-virginica', b'Iris-virginica', b'Iris-virginica',\n",
       "       b'Iris-virginica', b'Iris-virginica', b'Iris-virginica'],\n",
       "      dtype=object)"
      ]
     },
     "execution_count": 173,
     "metadata": {},
     "output_type": "execute_result"
    }
   ],
   "source": [
    "species = np.array(irisdata[:, -1])\n",
    "species"
   ]
  },
  {
   "cell_type": "markdown",
   "metadata": {},
   "source": [
    "3. Extract from irisdata sepal length column as an array of float values"
   ]
  },
  {
   "cell_type": "code",
   "execution_count": 175,
   "metadata": {},
   "outputs": [
    {
     "data": {
      "text/plain": [
       "array([b'5.1', b'4.9', b'4.7', b'4.6', b'5.0', b'5.4', b'4.6', b'5.0',\n",
       "       b'4.4', b'4.9', b'5.4', b'4.8', b'4.8', b'4.3', b'5.8', b'5.7',\n",
       "       b'5.4', b'5.1', b'5.7', b'5.1', b'5.4', b'5.1', b'4.6', b'5.1',\n",
       "       b'4.8', b'5.0', b'5.0', b'5.2', b'5.2', b'4.7', b'4.8', b'5.4',\n",
       "       b'5.2', b'5.5', b'4.9', b'5.0', b'5.5', b'4.9', b'4.4', b'5.1',\n",
       "       b'5.0', b'4.5', b'4.4', b'5.0', b'5.1', b'4.8', b'5.1', b'4.6',\n",
       "       b'5.3', b'5.0', b'7.0', b'6.4', b'6.9', b'5.5', b'6.5', b'5.7',\n",
       "       b'6.3', b'4.9', b'6.6', b'5.2', b'5.0', b'5.9', b'6.0', b'6.1',\n",
       "       b'5.6', b'6.7', b'5.6', b'5.8', b'6.2', b'5.6', b'5.9', b'6.1',\n",
       "       b'6.3', b'6.1', b'6.4', b'6.6', b'6.8', b'6.7', b'6.0', b'5.7',\n",
       "       b'5.5', b'5.5', b'5.8', b'6.0', b'5.4', b'6.0', b'6.7', b'6.3',\n",
       "       b'5.6', b'5.5', b'5.5', b'6.1', b'5.8', b'5.0', b'5.6', b'5.7',\n",
       "       b'5.7', b'6.2', b'5.1', b'5.7', b'6.3', b'5.8', b'7.1', b'6.3',\n",
       "       b'6.5', b'7.6', b'4.9', b'7.3', b'6.7', b'7.2', b'6.5', b'6.4',\n",
       "       b'6.8', b'5.7', b'5.8', b'6.4', b'6.5', b'7.7', b'7.7', b'6.0',\n",
       "       b'6.9', b'5.6', b'7.7', b'6.3', b'6.7', b'7.2', b'6.2', b'6.1',\n",
       "       b'6.4', b'7.2', b'7.4', b'7.9', b'6.4', b'6.3', b'6.1', b'7.7',\n",
       "       b'6.3', b'6.4', b'6.0', b'6.9', b'6.7', b'6.9', b'5.8', b'6.8',\n",
       "       b'6.7', b'6.7', b'6.3', b'6.5', b'6.2', b'5.9'], dtype=object)"
      ]
     },
     "execution_count": 175,
     "metadata": {},
     "output_type": "execute_result"
    }
   ],
   "source": [
    "sepal_length = np.array(irisdata[:,0])\n",
    "sepal_length"
   ]
  },
  {
   "cell_type": "markdown",
   "metadata": {},
   "source": [
    "4. Change the type of irisdata 1st to 4th colum to float and last one to string"
   ]
  },
  {
   "cell_type": "code",
   "execution_count": 178,
   "metadata": {},
   "outputs": [],
   "source": [
    "for i in range(0, 4):\n",
    "    irisdata[:, i] = (irisdata[:, i]).astype(\"float64\")\n",
    "    \n",
    "irisdata[:, -1] = (irisdata[:, i]).astype(\"str\")"
   ]
  },
  {
   "cell_type": "markdown",
   "metadata": {},
   "source": [
    "5. Find the mean, median, standard deviation of iris's sepal length (1st column)"
   ]
  },
  {
   "cell_type": "code",
   "execution_count": 183,
   "metadata": {},
   "outputs": [
    {
     "name": "stdout",
     "output_type": "stream",
     "text": [
      "Mean of sepal length:  5.843333333333335\n",
      "Median of sepal length:  5.8\n",
      "Standard deviation of sepal length:  0.8253012917851409\n"
     ]
    }
   ],
   "source": [
    "sepal_length = irisdata[:, 0]\n",
    "mean_sepal_length = np.mean(sepal_length)\n",
    "median_sepal_length = np.median(sepal_length)\n",
    "sd_sepal_length = np.std(sepal_length)\n",
    "\n",
    "print(\"Mean of sepal length: \", mean_sepal_length)\n",
    "print(\"Median of sepal length: \", median_sepal_length)\n",
    "print(\"Standard deviation of sepal length: \", sd_sepal_length)"
   ]
  },
  {
   "cell_type": "markdown",
   "metadata": {},
   "source": [
    "6. Normalize the values of iris' petal length"
   ]
  },
  {
   "cell_type": "markdown",
   "metadata": {},
   "source": [
    "Remember that the normalized value of ${x}$ with mean ${\\mu}$ and variance ${\\sigma}$ is:\n",
    "\n",
    "${normalized(x) = \\frac{x - \\mu}{\\sigma} }$"
   ]
  },
  {
   "cell_type": "code",
   "execution_count": 185,
   "metadata": {},
   "outputs": [
    {
     "data": {
      "text/plain": [
       "array([-1.7786552538440004, -1.7786552538440004, -1.8540646060420218,\n",
       "       -1.7032459016459789, -1.7786552538440004, -1.552427197249936,\n",
       "       -1.7786552538440004, -1.7032459016459789, -1.7786552538440004,\n",
       "       -1.7032459016459789, -1.7032459016459789, -1.6278365494479574,\n",
       "       -1.7786552538440004, -2.0048833104380646, -1.9294739582400429,\n",
       "       -1.7032459016459789, -1.8540646060420218, -1.7786552538440004,\n",
       "       -1.552427197249936, -1.7032459016459789, -1.552427197249936,\n",
       "       -1.7032459016459789, -2.080292662636086, -1.552427197249936,\n",
       "       -1.4016084928538932, -1.6278365494479574, -1.6278365494479574,\n",
       "       -1.7032459016459789, -1.7786552538440004, -1.6278365494479574,\n",
       "       -1.6278365494479574, -1.7032459016459789, -1.7032459016459789,\n",
       "       -1.7786552538440004, -1.7032459016459789, -1.9294739582400429,\n",
       "       -1.8540646060420218, -1.7032459016459789, -1.8540646060420218,\n",
       "       -1.7032459016459789, -1.8540646060420218, -1.8540646060420218,\n",
       "       -1.8540646060420218, -1.6278365494479574, -1.4016084928538932,\n",
       "       -1.7786552538440004, -1.6278365494479574, -1.7786552538440004,\n",
       "       -1.7032459016459789, -1.7786552538440004, 0.7098533686907064,\n",
       "       0.5590346642946634, 0.8606720730867493, 0.1819879033045564,\n",
       "       0.6344440164926846, 0.5590346642946634, 0.7098533686907064,\n",
       "       -0.34587756208159365, 0.6344440164926846, 0.1065785511065349,\n",
       "       -0.19505885768555067, 0.33280660770059933, 0.1819879033045564,\n",
       "       0.7098533686907064, -0.1196495054875292, 0.4836253120966423,\n",
       "       0.5590346642946634, 0.2573972555025775, 0.5590346642946634,\n",
       "       0.1065785511065349, 0.7852627208887275, 0.1819879033045564,\n",
       "       0.8606720730867493, 0.7098533686907064, 0.4082159598986205,\n",
       "       0.4836253120966423, 0.7852627208887275, 0.9360814252847705,\n",
       "       0.5590346642946634, -0.19505885768555067, 0.031169198908513423,\n",
       "       -0.04424015328950772, 0.1065785511065349, 1.0114907774827917,\n",
       "       0.5590346642946634, 0.5590346642946634, 0.7098533686907064,\n",
       "       0.4836253120966423, 0.2573972555025775, 0.1819879033045564,\n",
       "       0.4836253120966423, 0.6344440164926846, 0.1819879033045564,\n",
       "       -0.34587756208159365, 0.33280660770059933, 0.33280660770059933,\n",
       "       0.33280660770059933, 0.4082159598986205, -0.5721056186756577,\n",
       "       0.2573972555025775, 1.6901749472649845, 1.0114907774827917,\n",
       "       1.6147655950669635, 1.3885375384728986, 1.5393562428689416,\n",
       "       2.142631060453113, 0.5590346642946634, 1.9164030038590487,\n",
       "       1.5393562428689416, 1.7655842994630058, 1.0114907774827917,\n",
       "       1.1623094818788346, 1.3131281862748776, 0.9360814252847705,\n",
       "       1.0114907774827917, 1.1623094818788346, 1.3131281862748776,\n",
       "       2.2180404126511344, 2.3688591170471773, 0.9360814252847705,\n",
       "       1.4639468906709205, 0.8606720730867493, 2.2180404126511344,\n",
       "       0.8606720730867493, 1.4639468906709205, 1.6901749472649845,\n",
       "       0.7852627208887275, 0.8606720730867493, 1.3885375384728986,\n",
       "       1.5393562428689416, 1.7655842994630058, 1.9918123560570704,\n",
       "       1.3885375384728986, 1.0114907774827917, 1.3885375384728986,\n",
       "       1.7655842994630058, 1.3885375384728986, 1.3131281862748776,\n",
       "       0.7852627208887275, 1.2377188340768563, 1.3885375384728986,\n",
       "       1.0114907774827917, 1.0114907774827917, 1.6147655950669635,\n",
       "       1.4639468906709205, 1.0869001296808134, 0.9360814252847705,\n",
       "       1.0869001296808134, 1.2377188340768563, 1.0114907774827917],\n",
       "      dtype=object)"
      ]
     },
     "execution_count": 185,
     "metadata": {},
     "output_type": "execute_result"
    }
   ],
   "source": [
    "petal_length = irisdata[:, 2]\n",
    "mean_petal_length = np.mean(petal_length)\n",
    "sd_petal_length = np.std(petal_length)\n",
    "variance_petal_length = np.sqrt(sd_petal_length)\n",
    "\n",
    "normalized_petal_length = (petal_length - mean_petal_length) / variance_petal_length\n",
    "normalized_petal_length"
   ]
  },
  {
   "cell_type": "markdown",
   "metadata": {},
   "source": [
    "7. Create function that normalize values in any column of an array"
   ]
  },
  {
   "cell_type": "code",
   "execution_count": null,
   "metadata": {},
   "outputs": [],
   "source": []
  }
 ],
 "metadata": {
  "kernelspec": {
   "display_name": "Python 3",
   "language": "python",
   "name": "python3"
  },
  "language_info": {
   "codemirror_mode": {
    "name": "ipython",
    "version": 3
   },
   "file_extension": ".py",
   "mimetype": "text/x-python",
   "name": "python",
   "nbconvert_exporter": "python",
   "pygments_lexer": "ipython3",
   "version": "3.7.3"
  }
 },
 "nbformat": 4,
 "nbformat_minor": 2
}
